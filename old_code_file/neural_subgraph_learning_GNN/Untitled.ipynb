{
 "cells": [
  {
   "cell_type": "code",
   "execution_count": 6,
   "id": "8afa89cf",
   "metadata": {},
   "outputs": [
    {
     "name": "stdout",
     "output_type": "stream",
     "text": [
      "Collecting package metadata (current_repodata.json): done\n",
      "Solving environment: done\n",
      "\n",
      "## Package Plan ##\n",
      "\n",
      "  environment location: /home/tom/anaconda3/envs/graphmn\n",
      "\n",
      "  added / updated specs:\n",
      "    - matplotlib\n",
      "\n",
      "\n",
      "The following packages will be downloaded:\n",
      "\n",
      "    package                    |            build\n",
      "    ---------------------------|-----------------\n",
      "    cycler-0.10.0              |   py39h06a4308_0          16 KB\n",
      "    kiwisolver-1.3.1           |   py39h2531618_0          80 KB\n",
      "    matplotlib-3.3.4           |   py39h06a4308_0          26 KB\n",
      "    matplotlib-base-3.3.4      |   py39h62a2d02_0         5.1 MB\n",
      "    mkl-service-2.4.0          |   py39h7f8727e_0          59 KB\n",
      "    mkl_fft-1.3.0              |   py39h42c9631_2         179 KB\n",
      "    mkl_random-1.2.2           |   py39h51133e4_0         309 KB\n",
      "    numpy-1.20.3               |   py39hf144106_0          23 KB\n",
      "    numpy-base-1.20.3          |   py39h74d4b33_0         4.6 MB\n",
      "    pillow-8.3.1               |   py39h2c7a002_0         648 KB\n",
      "    pyqt-5.9.2                 |   py39h2531618_6         4.7 MB\n",
      "    sip-4.19.13                |   py39h2531618_0         279 KB\n",
      "    ------------------------------------------------------------\n",
      "                                           Total:        15.9 MB\n",
      "\n",
      "The following NEW packages will be INSTALLED:\n",
      "\n",
      "  blas               pkgs/main/linux-64::blas-1.0-mkl\n",
      "  cycler             pkgs/main/linux-64::cycler-0.10.0-py39h06a4308_0\n",
      "  dbus               pkgs/main/linux-64::dbus-1.13.18-hb2f20db_0\n",
      "  expat              pkgs/main/linux-64::expat-2.4.1-h2531618_2\n",
      "  fontconfig         pkgs/main/linux-64::fontconfig-2.13.1-h6c09931_0\n",
      "  freetype           pkgs/main/linux-64::freetype-2.10.4-h5ab3b9f_0\n",
      "  glib               pkgs/main/linux-64::glib-2.69.0-h5202010_0\n",
      "  gst-plugins-base   pkgs/main/linux-64::gst-plugins-base-1.14.0-h8213a91_2\n",
      "  gstreamer          pkgs/main/linux-64::gstreamer-1.14.0-h28cd5cc_2\n",
      "  icu                pkgs/main/linux-64::icu-58.2-he6710b0_3\n",
      "  intel-openmp       pkgs/main/linux-64::intel-openmp-2021.3.0-h06a4308_3350\n",
      "  jpeg               pkgs/main/linux-64::jpeg-9b-h024ee3a_2\n",
      "  kiwisolver         pkgs/main/linux-64::kiwisolver-1.3.1-py39h2531618_0\n",
      "  lcms2              pkgs/main/linux-64::lcms2-2.12-h3be6417_0\n",
      "  libpng             pkgs/main/linux-64::libpng-1.6.37-hbc83047_0\n",
      "  libtiff            pkgs/main/linux-64::libtiff-4.2.0-h85742a9_0\n",
      "  libuuid            pkgs/main/linux-64::libuuid-1.0.3-h1bed415_2\n",
      "  libwebp-base       pkgs/main/linux-64::libwebp-base-1.2.0-h27cfd23_0\n",
      "  libxcb             pkgs/main/linux-64::libxcb-1.14-h7b6447c_0\n",
      "  libxml2            pkgs/main/linux-64::libxml2-2.9.12-h03d6c58_0\n",
      "  lz4-c              pkgs/main/linux-64::lz4-c-1.9.3-h2531618_0\n",
      "  matplotlib         pkgs/main/linux-64::matplotlib-3.3.4-py39h06a4308_0\n",
      "  matplotlib-base    pkgs/main/linux-64::matplotlib-base-3.3.4-py39h62a2d02_0\n",
      "  mkl                pkgs/main/linux-64::mkl-2021.3.0-h06a4308_520\n",
      "  mkl-service        pkgs/main/linux-64::mkl-service-2.4.0-py39h7f8727e_0\n",
      "  mkl_fft            pkgs/main/linux-64::mkl_fft-1.3.0-py39h42c9631_2\n",
      "  mkl_random         pkgs/main/linux-64::mkl_random-1.2.2-py39h51133e4_0\n",
      "  numpy              pkgs/main/linux-64::numpy-1.20.3-py39hf144106_0\n",
      "  numpy-base         pkgs/main/linux-64::numpy-base-1.20.3-py39h74d4b33_0\n",
      "  olefile            pkgs/main/noarch::olefile-0.46-py_0\n",
      "  openjpeg           pkgs/main/linux-64::openjpeg-2.3.0-h05c96fa_1\n",
      "  pcre               pkgs/main/linux-64::pcre-8.45-h295c915_0\n",
      "  pillow             pkgs/main/linux-64::pillow-8.3.1-py39h2c7a002_0\n",
      "  pyparsing          pkgs/main/noarch::pyparsing-2.4.7-pyhd3eb1b0_0\n",
      "  pyqt               pkgs/main/linux-64::pyqt-5.9.2-py39h2531618_6\n",
      "  qt                 pkgs/main/linux-64::qt-5.9.7-h5867ecd_1\n",
      "  sip                pkgs/main/linux-64::sip-4.19.13-py39h2531618_0\n",
      "  zstd               pkgs/main/linux-64::zstd-1.4.9-haebb681_0\n",
      "\n",
      "The following packages will be UPDATED:\n",
      "\n",
      "  ca-certificates    anaconda::ca-certificates-2020.10.14-0 --> pkgs/main::ca-certificates-2021.7.5-h06a4308_1\n",
      "\n",
      "\n",
      "\n",
      "Downloading and Extracting Packages\n",
      "sip-4.19.13          | 279 KB    | ##################################### | 100% \n",
      "matplotlib-3.3.4     | 26 KB     | ##################################### | 100% \n",
      "numpy-1.20.3         | 23 KB     | ##################################### | 100% \n",
      "pyqt-5.9.2           | 4.7 MB    | ##################################### | 100% \n",
      "mkl_random-1.2.2     | 309 KB    | ##################################### | 100% \n",
      "matplotlib-base-3.3. | 5.1 MB    | ##################################### | 100% \n",
      "kiwisolver-1.3.1     | 80 KB     | ##################################### | 100% \n",
      "mkl_fft-1.3.0        | 179 KB    | ##################################### | 100% \n",
      "numpy-base-1.20.3    | 4.6 MB    | ##################################### | 100% \n",
      "cycler-0.10.0        | 16 KB     | ##################################### | 100% \n",
      "mkl-service-2.4.0    | 59 KB     | ##################################### | 100% \n",
      "pillow-8.3.1         | 648 KB    | ##################################### | 100% \n",
      "Preparing transaction: done\n",
      "Verifying transaction: done\n",
      "Executing transaction: done\n",
      "\n",
      "Note: you may need to restart the kernel to use updated packages.\n"
     ]
    }
   ],
   "source": [
    "conda install matplotlib\n"
   ]
  },
  {
   "cell_type": "code",
   "execution_count": 3,
   "id": "c95517f6",
   "metadata": {},
   "outputs": [],
   "source": [
    "import collections.abc as container_abcs\n",
    "\n",
    "\n",
    "\n"
   ]
  },
  {
   "cell_type": "code",
   "execution_count": 8,
   "id": "9e76e730",
   "metadata": {
    "scrolled": false
   },
   "outputs": [],
   "source": [
    "from subgraph_mining.search_agents import SearchAgent"
   ]
  },
  {
   "cell_type": "code",
   "execution_count": 9,
   "id": "ec5bc721",
   "metadata": {},
   "outputs": [],
   "source": [
    "from subgraph_mining.decoder import main\n"
   ]
  },
  {
   "cell_type": "code",
   "execution_count": 10,
   "id": "777501ed",
   "metadata": {},
   "outputs": [
    {
     "name": "stderr",
     "output_type": "stream",
     "text": [
      "usage: ipykernel_launcher.py [-h] [--conv_type CONV_TYPE] [--method_type METHOD_TYPE] [--batch_size BATCH_SIZE]\n",
      "                             [--n_layers N_LAYERS] [--hidden_dim HIDDEN_DIM] [--skip SKIP] [--dropout DROPOUT]\n",
      "                             [--n_batches N_BATCHES] [--margin MARGIN] [--dataset DATASET] [--test_set TEST_SET]\n",
      "                             [--eval_interval EVAL_INTERVAL] [--val_size VAL_SIZE] [--model_path MODEL_PATH]\n",
      "                             [--opt_scheduler OPT_SCHEDULER] [--node_anchored] [--test] [--n_workers N_WORKERS]\n",
      "                             [--tag TAG] [--sample_method SAMPLE_METHOD] [--motif_dataset MOTIF_DATASET]\n",
      "                             [--radius RADIUS] [--subgraph_sample_size SUBGRAPH_SAMPLE_SIZE] [--out_path OUT_PATH]\n",
      "                             [--n_clusters N_CLUSTERS] [--min_pattern_size MIN_PATTERN_SIZE]\n",
      "                             [--max_pattern_size MAX_PATTERN_SIZE] [--min_neighborhood_size MIN_NEIGHBORHOOD_SIZE]\n",
      "                             [--max_neighborhood_size MAX_NEIGHBORHOOD_SIZE] [--n_neighborhoods N_NEIGHBORHOODS]\n",
      "                             [--n_trials N_TRIALS] [--out_batch_size OUT_BATCH_SIZE] [--analyze]\n",
      "                             [--search_strategy SEARCH_STRATEGY] [--use_whole_graphs]\n",
      "ipykernel_launcher.py: error: unrecognized arguments: -f /home/tom/.local/share/jupyter/runtime/kernel-7c247e4d-efa1-421b-949c-587a4035a8c8.json\n"
     ]
    },
    {
     "ename": "SystemExit",
     "evalue": "2",
     "output_type": "error",
     "traceback": [
      "An exception has occurred, use %tb to see the full traceback.\n",
      "\u001b[0;31mSystemExit\u001b[0m\u001b[0;31m:\u001b[0m 2\n"
     ]
    },
    {
     "name": "stderr",
     "output_type": "stream",
     "text": [
      "/home/tom/anaconda3/envs/graphmn/lib/python3.9/site-packages/IPython/core/interactiveshell.py:3445: UserWarning: To exit: use 'exit', 'quit', or Ctrl-D.\n",
      "  warn(\"To exit: use 'exit', 'quit', or Ctrl-D.\", stacklevel=1)\n"
     ]
    }
   ],
   "source": [
    "main()"
   ]
  },
  {
   "cell_type": "code",
   "execution_count": 11,
   "id": "071f1925",
   "metadata": {},
   "outputs": [
    {
     "name": "stderr",
     "output_type": "stream",
     "text": [
      "usage: ipykernel_launcher.py [-h] [--conv_type CONV_TYPE] [--method_type METHOD_TYPE] [--batch_size BATCH_SIZE]\n",
      "                             [--n_layers N_LAYERS] [--hidden_dim HIDDEN_DIM] [--skip SKIP] [--dropout DROPOUT]\n",
      "                             [--n_batches N_BATCHES] [--margin MARGIN] [--dataset DATASET] [--test_set TEST_SET]\n",
      "                             [--eval_interval EVAL_INTERVAL] [--val_size VAL_SIZE] [--model_path MODEL_PATH]\n",
      "                             [--opt_scheduler OPT_SCHEDULER] [--node_anchored] [--test] [--n_workers N_WORKERS]\n",
      "                             [--tag TAG] [--sample_method SAMPLE_METHOD] [--motif_dataset MOTIF_DATASET]\n",
      "                             [--radius RADIUS] [--subgraph_sample_size SUBGRAPH_SAMPLE_SIZE] [--out_path OUT_PATH]\n",
      "                             [--n_clusters N_CLUSTERS] [--min_pattern_size MIN_PATTERN_SIZE]\n",
      "                             [--max_pattern_size MAX_PATTERN_SIZE] [--min_neighborhood_size MIN_NEIGHBORHOOD_SIZE]\n",
      "                             [--max_neighborhood_size MAX_NEIGHBORHOOD_SIZE] [--n_neighborhoods N_NEIGHBORHOODS]\n",
      "                             [--n_trials N_TRIALS] [--out_batch_size OUT_BATCH_SIZE] [--analyze]\n",
      "                             [--search_strategy SEARCH_STRATEGY] [--use_whole_graphs]\n",
      "ipykernel_launcher.py: error: unrecognized arguments: -f /home/tom/.local/share/jupyter/runtime/kernel-7c247e4d-efa1-421b-949c-587a4035a8c8.json\n"
     ]
    },
    {
     "ename": "SystemExit",
     "evalue": "2",
     "output_type": "error",
     "traceback": [
      "An exception has occurred, use %tb to see the full traceback.\n",
      "\u001b[0;31mSystemExit\u001b[0m\u001b[0;31m:\u001b[0m 2\n"
     ]
    }
   ],
   "source": [
    "main()"
   ]
  },
  {
   "cell_type": "code",
   "execution_count": null,
   "id": "065c5123",
   "metadata": {},
   "outputs": [],
   "source": []
  }
 ],
 "metadata": {
  "kernelspec": {
   "display_name": "graphmn",
   "language": "python",
   "name": "graphmn"
  },
  "language_info": {
   "codemirror_mode": {
    "name": "ipython",
    "version": 3
   },
   "file_extension": ".py",
   "mimetype": "text/x-python",
   "name": "python",
   "nbconvert_exporter": "python",
   "pygments_lexer": "ipython3",
   "version": "3.9.5"
  }
 },
 "nbformat": 4,
 "nbformat_minor": 5
}
